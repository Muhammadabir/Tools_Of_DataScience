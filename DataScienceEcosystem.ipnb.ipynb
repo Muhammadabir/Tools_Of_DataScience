{
 "cells": [
  {
   "cell_type": "markdown",
   "metadata": {},
   "source": [
    "<center>\n",
    "    <img src=\"https://cf-courses-data.s3.us.cloud-object-storage.appdomain.cloud/IBMDeveloperSkillsNetwork-DS0105EN-SkillsNetwork/labs/Module2/images/SN_web_lightmode.png\" width=\"300\" alt=\"cognitiveclass.ai logo\">\n",
    "</center>\n"
   ]
  },
  {
   "cell_type": "markdown",
   "metadata": {},
   "source": [
    "#### Add your code below following the instructions given in the course\n"
   ]
  },
  {
   "cell_type": "markdown",
   "metadata": {},
   "source": [
    "# Data Science Tools and Ecosystem"
   ]
  },
  {
   "cell_type": "markdown",
   "metadata": {},
   "source": [
    "This Notebook will touch some of the aspects of the vast Ecosystem of Data Science "
   ]
  },
  {
   "cell_type": "markdown",
   "metadata": {},
   "source": [
    "__Objectives:__\n",
    "* List of some of the popular languages used in Data Science\n",
    "* List of some of the popular open source devolopement environments (Tools) in Data Science\n",
    "* List of some of the libraries commonly used in the field of Data Science\n",
    "* A demonstration of Arithmetic operations in the Python Language\n",
    "* A demonstration of some of the various markdown formats in Jupyter Notebook"
   ]
  },
  {
   "cell_type": "markdown",
   "metadata": {},
   "source": [
    "Below will be mentioned some of the popular languages used by Data Scientists:\n",
    "1. R (well known in the academic and the Data Science depertment)\n",
    "2. Python (popular for its various machine learning, Data Science and Alanytic Libraries and APIs)\n",
    "3. SQL (A must for Analysing Data and Data Warehousing amongst many other usages)\n",
    "4. Scala (Known for its Vegas library along with other libraries complementary with Spark)\n",
    "5. Javascript (Tensorflow.js, brain.js, machinelearn .js, R.js)\n",
    "6. Java (Weka fir data mining,Java-ML, Hadoop, Deeplearning4, Apache MLlib)\n",
    "7. Julia (designed for high performane numerical analysis and computational science)"
   ]
  },
  {
   "cell_type": "markdown",
   "metadata": {},
   "source": [
    "There are many langauges and libraries used in the field of data science. Below will be mentioned a few:\n",
    "\n",
    "* **Python:**\n",
    "\n",
    "1. Pandas\n",
    "2. NumPy\n",
    "3. Matplotlib\n",
    "4. scikit-learn\n",
    "5. Keras\n",
    "6. PyTorch\n",
    "7. TensorFlow\n",
    "-------------\n",
    "* __Scala:__\n",
    "\n",
    "1. Vegas\n",
    "2. Big DL\n",
    "------------\n",
    "* __R:__\n",
    "\n",
    "1. ggplot\n",
    "2. caret\n",
    "3. dplyr\n",
    "---------\n"
   ]
  },
  {
   "cell_type": "markdown",
   "metadata": {},
   "source": [
    "| Data Science Tools | \n",
    "|--------------------|\n",
    "|RStudios|\n",
    "|Jupyter|\n",
    "|Apache Zeppelin|\n"
   ]
  },
  {
   "cell_type": "markdown",
   "metadata": {},
   "source": [
    "### A few examples of evaluating arithmetic expressions in Python are given below:"
   ]
  },
  {
   "cell_type": "code",
   "execution_count": 3,
   "metadata": {},
   "outputs": [
    {
     "name": "stdout",
     "output_type": "stream",
     "text": [
      "17\n"
     ]
    }
   ],
   "source": [
    "#The following code is an example of bracket evaluation followed by the addtiion operation with the expected result to be 17\n",
    "expression = (3 * 4 ) + 5\n",
    "print(expression)"
   ]
  },
  {
   "cell_type": "code",
   "execution_count": 4,
   "metadata": {},
   "outputs": [
    {
     "name": "stdout",
     "output_type": "stream",
     "text": [
      "3.3333333333333335\n"
     ]
    }
   ],
   "source": [
    "#The following code will try to covernt minutes into hours using the formula 60 minutes = 1 hr Therefore, 200 by 60 = 3.33 hrs\n",
    "current_minutes = 200\n",
    "minutes_in_an_hour = 60\n",
    "hours_in_current_given_minute = current_minutes / minutes_in_an_hour\n",
    "print(hours_in_current_given_minute)"
   ]
  },
  {
   "cell_type": "markdown",
   "metadata": {},
   "source": [
    "## Author\n",
    "-----------------\n",
    "Muhammad Abir Hossain"
   ]
  },
  {
   "cell_type": "code",
   "execution_count": null,
   "metadata": {},
   "outputs": [],
   "source": []
  }
 ],
 "metadata": {
  "kernelspec": {
   "display_name": "Python 3 (ipykernel)",
   "language": "python",
   "name": "python3"
  },
  "language_info": {
   "codemirror_mode": {
    "name": "ipython",
    "version": 3
   },
   "file_extension": ".py",
   "mimetype": "text/x-python",
   "name": "python",
   "nbconvert_exporter": "python",
   "pygments_lexer": "ipython3",
   "version": "3.10.11"
  }
 },
 "nbformat": 4,
 "nbformat_minor": 4
}
